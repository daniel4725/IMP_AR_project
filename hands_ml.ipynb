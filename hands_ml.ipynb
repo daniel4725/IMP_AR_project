{
 "cells": [
  {
   "cell_type": "code",
   "execution_count": 37,
   "metadata": {},
   "outputs": [],
   "source": [
    "# Imports\n",
    "from IPython.display import Video\n",
    "import numpy as np\n",
    "from matplotlib import pyplot as plt\n",
    "import cv2\n",
    "import time\n",
    "import queue\n",
    "import statistics"
   ]
  },
  {
   "cell_type": "code",
   "execution_count": 38,
   "metadata": {},
   "outputs": [
    {
     "data": {
      "text/html": [
       "<video src=\"gmm_fingers_frames.mp4\" controls  >\n",
       "      Your browser does not support the <code>video</code> element.\n",
       "    </video>"
      ],
      "text/plain": [
       "<IPython.core.display.Video object>"
      ]
     },
     "execution_count": 38,
     "metadata": {},
     "output_type": "execute_result"
    }
   ],
   "source": [
    "def preview_video(input_video_path: str, output_video_path: str):\n",
    "    cap = cv2.VideoCapture(input_video_path)\n",
    "    out = cv2.VideoWriter(output_video_path, -1, 20.0, (640,480))\n",
    "    # get total number of frames\n",
    "    totalFrames = cap.get(cv2.CAP_PROP_FRAME_COUNT)\n",
    "\n",
    "    suc, prev = cap.read()\n",
    "    prevgray = cv2.cvtColor(prev, cv2.COLOR_BGR2GRAY)\n",
    "    out.write(prevgray-prevgray)\n",
    "\n",
    "    for image in range(int(totalFrames) - 1):\n",
    "\n",
    "        suc, img = cap.read()\n",
    "        gray = cv2.cvtColor(img, cv2.COLOR_BGR2GRAY)   \n",
    "        \n",
    "        fps = str(image) \n",
    "        \n",
    "        font = cv2.FONT_HERSHEY_SIMPLEX\n",
    "        \n",
    "        cv2.putText(gray, fps, (7, 70), font, 3, (100, 255, 0), 3, cv2.LINE_AA)\n",
    "        \n",
    "        gray_bgr = cv2.cvtColor(gray, cv2.COLOR_GRAY2BGR)\n",
    "        \n",
    "        out.write(gray_bgr)\n",
    "\n",
    "        \n",
    "    cap.release()\n",
    "    out.release()\n",
    "    \n",
    "    \n",
    "preview_video('gmm_fingers.mp4','gmm_fingers_frames.mp4')\n",
    "Video('gmm_fingers_frames.mp4')"
   ]
  },
  {
   "cell_type": "code",
   "execution_count": 46,
   "metadata": {},
   "outputs": [],
   "source": [
    "cap = cv2.VideoCapture('gmm_fingers.mp4')\n",
    "\n",
    "# get total number of frames\n",
    "totalFrames = cap.get(cv2.CAP_PROP_FRAME_COUNT)\n",
    "\n",
    "\n",
    "suc, prev = cap.read()\n",
    "prevgray = cv2.cvtColor(prev, cv2.COLOR_BGR2GRAY)\n",
    "\n",
    "images = np.zeros((np.shape(prevgray)[0]*np.shape(prevgray)[1],int(totalFrames)),np.uint8)\n",
    "\n",
    "images[:,0] = prevgray.flatten()\n",
    "\n",
    "for image in range(int(totalFrames) - 1):\n",
    "\n",
    "    suc, img = cap.read()\n",
    "    gray = cv2.cvtColor(img, cv2.COLOR_BGR2GRAY)   \n",
    "    \n",
    "    images[:,image] = gray.flatten()\n",
    "    \n",
    "    \n",
    "cap.release()"
   ]
  },
  {
   "cell_type": "code",
   "execution_count": 40,
   "metadata": {},
   "outputs": [
    {
     "ename": "IndexError",
     "evalue": "too many indices for array: array is 2-dimensional, but 3 were indexed",
     "output_type": "error",
     "traceback": [
      "\u001b[1;31m---------------------------------------------------------------------------\u001b[0m",
      "\u001b[1;31mIndexError\u001b[0m                                Traceback (most recent call last)",
      "\u001b[1;32mC:\\Users\\ophir\\AppData\\Local\\Temp/ipykernel_22668/2102597676.py\u001b[0m in \u001b[0;36m<module>\u001b[1;34m\u001b[0m\n\u001b[0;32m      5\u001b[0m     \u001b[0mplt\u001b[0m\u001b[1;33m.\u001b[0m\u001b[0mshow\u001b[0m\u001b[1;33m(\u001b[0m\u001b[1;33m)\u001b[0m\u001b[1;33m\u001b[0m\u001b[1;33m\u001b[0m\u001b[0m\n\u001b[0;32m      6\u001b[0m \u001b[1;33m\u001b[0m\u001b[0m\n\u001b[1;32m----> 7\u001b[1;33m \u001b[0mshow_img_in_notebook\u001b[0m\u001b[1;33m(\u001b[0m\u001b[0mimages\u001b[0m\u001b[1;33m[\u001b[0m\u001b[1;33m:\u001b[0m\u001b[1;33m,\u001b[0m\u001b[1;33m:\u001b[0m\u001b[1;33m,\u001b[0m\u001b[1;36m100\u001b[0m\u001b[1;33m]\u001b[0m\u001b[1;33m)\u001b[0m\u001b[1;33m\u001b[0m\u001b[1;33m\u001b[0m\u001b[0m\n\u001b[0m",
      "\u001b[1;31mIndexError\u001b[0m: too many indices for array: array is 2-dimensional, but 3 were indexed"
     ]
    }
   ],
   "source": [
    "def show_img_in_notebook(frame):\n",
    "    RGB_im = cv2.cvtColor(frame, cv2.COLOR_BGR2RGB)    \n",
    "    plt.imshow(RGB_im)\n",
    "    plt.title(\"Video\")\n",
    "    plt.show()\n",
    "    \n",
    "# show_img_in_notebook(images[:,:,100])"
   ]
  },
  {
   "cell_type": "code",
   "execution_count": 47,
   "metadata": {},
   "outputs": [],
   "source": [
    "labels = np.zeros((int(totalFrames)),np.uint8)\n",
    "\n",
    "labels[:] = -1\n",
    "labels[:80] = 5\n",
    "labels[100:145] = 4\n",
    "labels[150:210] = 3\n",
    "labels[220:280] = 2\n",
    "labels[300:360] = 1\n",
    "labels[370:420] = 0"
   ]
  },
  {
   "cell_type": "code",
   "execution_count": 57,
   "metadata": {},
   "outputs": [],
   "source": [
    "test = np.reshape(labels, (int(totalFrames),1))\n",
    "test_2 = np.transpose(images)\n",
    "\n",
    "# data= np.concatenate((test,test_2),axis=1)\n",
    "# labels[labels[]]"
   ]
  }
 ],
 "metadata": {
  "interpreter": {
   "hash": "b3ba2566441a7c06988d0923437866b63cedc61552a5af99d1f4fb67d367b25f"
  },
  "kernelspec": {
   "display_name": "Python 3.8.3 64-bit",
   "language": "python",
   "name": "python3"
  },
  "language_info": {
   "codemirror_mode": {
    "name": "ipython",
    "version": 3
   },
   "file_extension": ".py",
   "mimetype": "text/x-python",
   "name": "python",
   "nbconvert_exporter": "python",
   "pygments_lexer": "ipython3",
   "version": "3.7.3"
  },
  "orig_nbformat": 4
 },
 "nbformat": 4,
 "nbformat_minor": 2
}
