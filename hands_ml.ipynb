{
 "cells": [
  {
   "cell_type": "code",
   "execution_count": 1,
   "metadata": {},
   "outputs": [],
   "source": [
    "# Imports\n",
    "from IPython.display import Video\n",
    "import numpy as np\n",
    "from matplotlib import pyplot as plt\n",
    "import cv2\n",
    "import time\n",
    "import queue\n",
    "import statistics"
   ]
  },
  {
   "cell_type": "code",
   "execution_count": 2,
   "metadata": {},
   "outputs": [
    {
     "data": {
      "text/html": [
       "<video src=\"gmm_fingers_frames.mp4\" controls  >\n",
       "      Your browser does not support the <code>video</code> element.\n",
       "    </video>"
      ],
      "text/plain": [
       "<IPython.core.display.Video object>"
      ]
     },
     "execution_count": 2,
     "metadata": {},
     "output_type": "execute_result"
    }
   ],
   "source": [
    "def preview_video(input_video_path: str, output_video_path: str):\n",
    "    cap = cv2.VideoCapture(input_video_path)\n",
    "    out = cv2.VideoWriter(output_video_path, -1, 20.0, (640,480))\n",
    "    # get total number of frames\n",
    "    totalFrames = cap.get(cv2.CAP_PROP_FRAME_COUNT)\n",
    "\n",
    "    suc, prev = cap.read()\n",
    "    prevgray = cv2.cvtColor(prev, cv2.COLOR_BGR2GRAY)\n",
    "    out.write(prevgray-prevgray)\n",
    "\n",
    "    for image in range(int(totalFrames) - 1):\n",
    "\n",
    "        suc, img = cap.read()\n",
    "        gray = cv2.cvtColor(img, cv2.COLOR_BGR2GRAY)   \n",
    "        \n",
    "        fps = str(image) \n",
    "        \n",
    "        font = cv2.FONT_HERSHEY_SIMPLEX\n",
    "        \n",
    "        cv2.putText(gray, fps, (7, 70), font, 3, (100, 255, 0), 3, cv2.LINE_AA)\n",
    "        \n",
    "        gray_bgr = cv2.cvtColor(gray, cv2.COLOR_GRAY2BGR)\n",
    "        \n",
    "        out.write(gray_bgr)\n",
    "\n",
    "        \n",
    "    cap.release()\n",
    "    out.release()\n",
    "    \n",
    "    \n",
    "preview_video('gmm_fingers.mp4','gmm_fingers_frames.mp4')\n",
    "Video('gmm_fingers_frames.mp4')"
   ]
  },
  {
   "cell_type": "code",
   "execution_count": 3,
   "metadata": {},
   "outputs": [],
   "source": [
    "cap = cv2.VideoCapture('gmm_fingers.mp4')\n",
    "\n",
    "# get total number of frames\n",
    "totalFrames = cap.get(cv2.CAP_PROP_FRAME_COUNT)\n",
    "\n",
    "\n",
    "suc, prev = cap.read()\n",
    "prevgray = cv2.cvtColor(prev, cv2.COLOR_BGR2GRAY)\n",
    "\n",
    "images = np.zeros((np.shape(prevgray)[0]*np.shape(prevgray)[1],int(totalFrames)),np.uint8)\n",
    "\n",
    "images[:,0] = prevgray.flatten()\n",
    "\n",
    "for image in range(int(totalFrames) - 1):\n",
    "\n",
    "    suc, img = cap.read()\n",
    "    gray = cv2.cvtColor(img, cv2.COLOR_BGR2GRAY)   \n",
    "    \n",
    "    images[:,image] = gray.flatten()\n",
    "    \n",
    "    \n",
    "cap.release()"
   ]
  },
  {
   "cell_type": "code",
   "execution_count": 4,
   "metadata": {},
   "outputs": [],
   "source": [
    "def show_img_in_notebook(frame):\n",
    "    RGB_im = cv2.cvtColor(frame, cv2.COLOR_BGR2RGB)    \n",
    "    plt.imshow(RGB_im)\n",
    "    plt.title(\"Video\")\n",
    "    plt.show()\n",
    "    \n",
    "# show_img_in_notebook(images[:,:,100])"
   ]
  },
  {
   "cell_type": "code",
   "execution_count": 5,
   "metadata": {},
   "outputs": [],
   "source": [
    "labels = np.zeros((int(totalFrames)),np.uint8)\n",
    "\n",
    "labels[:] = -1\n",
    "labels[:80] = 5\n",
    "labels[100:145] = 4\n",
    "labels[150:210] = 3\n",
    "labels[220:280] = 2\n",
    "labels[300:360] = 1\n",
    "labels[370:420] = 0"
   ]
  },
  {
   "cell_type": "code",
   "execution_count": 10,
   "metadata": {},
   "outputs": [
    {
     "data": {
      "text/plain": [
       "array([[  0,   0,   0, ...,   0,   0,   5],\n",
       "       [  0,   0,   0, ...,   0,   0,   5],\n",
       "       [  0,   0,   0, ...,   0,   0,   5],\n",
       "       ...,\n",
       "       [  0,   0,   0, ...,   0,   0, 255],\n",
       "       [  0,   0,   0, ...,   0,   0, 255],\n",
       "       [  0,   0,   0, ...,   0,   0, 255]], dtype=uint8)"
      ]
     },
     "execution_count": 10,
     "metadata": {},
     "output_type": "execute_result"
    }
   ],
   "source": [
    "data= np.concatenate((np.transpose(images),np.reshape(labels, (int(totalFrames),1))),axis=1)\n",
    "\n",
    "data[data[:, -1] != -1]"
   ]
  }
 ],
 "metadata": {
  "interpreter": {
   "hash": "b3ba2566441a7c06988d0923437866b63cedc61552a5af99d1f4fb67d367b25f"
  },
  "kernelspec": {
   "display_name": "Python 3.8.3 64-bit",
   "language": "python",
   "name": "python3"
  },
  "language_info": {
   "codemirror_mode": {
    "name": "ipython",
    "version": 3
   },
   "file_extension": ".py",
   "mimetype": "text/x-python",
   "name": "python",
   "nbconvert_exporter": "python",
   "pygments_lexer": "ipython3",
   "version": "3.7.3"
  },
  "orig_nbformat": 4
 },
 "nbformat": 4,
 "nbformat_minor": 2
}
