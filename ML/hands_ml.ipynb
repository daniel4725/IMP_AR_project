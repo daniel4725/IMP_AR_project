{
 "cells": [
  {
   "cell_type": "markdown",
   "metadata": {},
   "source": [
    "Hand classification using linear regression\n",
    "==="
   ]
  },
  {
   "cell_type": "code",
   "execution_count": 1,
   "metadata": {},
   "outputs": [],
   "source": [
    "# Imports\n",
    "from IPython.display import Video\n",
    "import numpy as np\n",
    "from matplotlib import pyplot as plt\n",
    "import cv2\n",
    "import time\n",
    "import queue\n",
    "import statistics\n",
    "from tqdm import tqdm \n",
    "import pickle   # pip install pickle-mixin\n",
    "import tensorflow as tf\n",
    "import keras"
   ]
  },
  {
   "cell_type": "markdown",
   "metadata": {},
   "source": [
    "## Count fingers\n",
    "---"
   ]
  },
  {
   "cell_type": "code",
   "execution_count": 6,
   "metadata": {},
   "outputs": [],
   "source": [
    "def count_finger(grey):\n",
    "    try:\n",
    "        # applying gaussian blur\n",
    "        blurred = cv2.GaussianBlur(grey, (5, 5), cv2.BORDER_DEFAULT)\n",
    "\n",
    "        contours, hierarchy = cv2.findContours(blurred, cv2.RETR_EXTERNAL, cv2.CHAIN_APPROX_SIMPLE)\n",
    "        cntsMax = max(contours, key=lambda x: cv2.contourArea(x))\n",
    "        # largeContour = np.vstack([cntsMax[-1], cntsMax[-2]])\n",
    "        cv2.drawContours(grey, cntsMax, -1, (255, 255, 0))\n",
    "        gray_bgr = cv2.cvtColor(grey, cv2.COLOR_GRAY2BGR)\n",
    "        cv2.fillPoly(gray_bgr, pts =[cntsMax], color=(255,255,255))\n",
    "        grey = cv2.cvtColor(gray_bgr, cv2.COLOR_BGR2GRAY)\n",
    "        hull1 = cv2.convexHull(cntsMax)\n",
    "        cv2.drawContours(grey, [hull1], -1, (0, 255, 255), 2)\n",
    "        areahull = cv2.contourArea(hull1)\n",
    "        areacnt = cv2.contourArea(cntsMax)\n",
    "        arearatio = ((areahull - areacnt) / areacnt) * 100\n",
    "        hull = cv2.convexHull(cntsMax, returnPoints=False)\n",
    "        defects = cv2.convexityDefects(cntsMax, hull)\n",
    "        if defects is not None:\n",
    "            cnt = 0\n",
    "            for i in range(defects.shape[0]):  # calculate the angle\n",
    "                s, e, f, d = defects[i][0]\n",
    "                start = tuple(cntsMax[s][0])\n",
    "                end = tuple(cntsMax[e][0])\n",
    "                far = tuple(cntsMax[f][0])\n",
    "                a = np.sqrt((end[0] - start[0]) ** 2 + (end[1] - start[1]) ** 2)\n",
    "                b = np.sqrt((far[0] - start[0]) ** 2 + (far[1] - start[1]) ** 2)\n",
    "                c = np.sqrt((end[0] - far[0]) ** 2 + (end[1] - far[1]) ** 2)\n",
    "                angle = np.arccos((b ** 2 + c ** 2 - a ** 2) / (2 * b * c))  # cosine theorem\n",
    "                if angle <= np.pi / 2:  # angle less than 90 degree, treat as fingers\n",
    "                    cnt += 1\n",
    "                    cv2.circle(grey, far, 4, [0, 0, 255], -1)\n",
    "            if cnt > 0:\n",
    "                cnt = cnt + 1\n",
    "            if cnt == 0 and arearatio >= 12:\n",
    "                cnt = cnt + 1\n",
    "            cv2.putText(grey, str(cnt), (0, 50), cv2.FONT_HERSHEY_SIMPLEX, 1, (255, 0, 0), 2, cv2.LINE_AA)\n",
    "    except:\n",
    "        return grey\n",
    "    return grey\n"
   ]
  },
  {
   "cell_type": "markdown",
   "metadata": {},
   "source": [
    "## Preview video with frames\n",
    "---"
   ]
  },
  {
   "cell_type": "code",
   "execution_count": 18,
   "metadata": {},
   "outputs": [
    {
     "data": {
      "text/html": [
       "<video src=\"gmm_fingers_frames_fill.mp4\" controls  >\n",
       "      Your browser does not support the <code>video</code> element.\n",
       "    </video>"
      ],
      "text/plain": [
       "<IPython.core.display.Video object>"
      ]
     },
     "execution_count": 18,
     "metadata": {},
     "output_type": "execute_result"
    }
   ],
   "source": [
    "def preview_video(input_video_path: str, output_video_path: str):\n",
    "    cap = cv2.VideoCapture(input_video_path)\n",
    "    out = cv2.VideoWriter(output_video_path, -1, 20.0, (640,480))\n",
    "    # get total number of frames\n",
    "    totalFrames = cap.get(cv2.CAP_PROP_FRAME_COUNT)\n",
    "\n",
    "    suc, prev = cap.read()\n",
    "    prevgray = cv2.cvtColor(prev, cv2.COLOR_BGR2GRAY)\n",
    "    out.write(prevgray-prevgray)\n",
    "\n",
    "    for image in range(int(totalFrames) - 1):\n",
    "\n",
    "        suc, img = cap.read()\n",
    "        gray = cv2.cvtColor(img, cv2.COLOR_BGR2GRAY)  \n",
    "        \n",
    "        kernel = cv2.getStructuringElement(cv2.MORPH_CROSS,(5,5))\n",
    "        H = cv2.morphologyEx(gray, cv2.MORPH_CLOSE, kernel, iterations=3)\n",
    "        V = cv2.morphologyEx(gray, cv2.MORPH_CLOSE, kernel, iterations=3)\n",
    "\n",
    "        gray = cv2.bitwise_and(H, V)\n",
    "    \n",
    "        \n",
    "        gray = count_finger(gray)\n",
    "        \n",
    "        fps = str(image) \n",
    "        \n",
    "        font = cv2.FONT_HERSHEY_SIMPLEX\n",
    "        \n",
    "        cv2.putText(gray, fps, (7, 70), font, 3, (100, 255, 0), 3, cv2.LINE_AA)\n",
    "        \n",
    "        gray_bgr = cv2.cvtColor(gray, cv2.COLOR_GRAY2BGR)\n",
    "        \n",
    "        out.write(gray_bgr)\n",
    "\n",
    "        \n",
    "    cap.release()\n",
    "    out.release()\n",
    "    \n",
    "    \n",
    "preview_video('gmm_fingers.mp4','gmm_fingers_frames_fill.mp4')\n",
    "Video('gmm_fingers_frames_fill.mp4')"
   ]
  },
  {
   "cell_type": "code",
   "execution_count": 19,
   "metadata": {},
   "outputs": [
    {
     "data": {
      "text/html": [
       "<video src=\"gmm_fingers_and_fill.mp4\" controls  >\n",
       "      Your browser does not support the <code>video</code> element.\n",
       "    </video>"
      ],
      "text/plain": [
       "<IPython.core.display.Video object>"
      ]
     },
     "execution_count": 19,
     "metadata": {},
     "output_type": "execute_result"
    }
   ],
   "source": [
    "def preview_video_side_by_side(input_1_video_path: str, input_2_video_path: str, output_video_path: str):\n",
    "    cap_1 = cv2.VideoCapture(input_1_video_path)\n",
    "    cap_2 = cv2.VideoCapture(input_2_video_path)\n",
    "    out = cv2.VideoWriter(output_video_path, -1, 20.0, (640*2,480))\n",
    "    # get total number of frames\n",
    "    totalFrames = cap_1.get(cv2.CAP_PROP_FRAME_COUNT)\n",
    "\n",
    "    for image in range(int(totalFrames)):\n",
    "\n",
    "        suc_1, img_1 = cap_1.read()\n",
    "        gray_1 = cv2.cvtColor(img_1, cv2.COLOR_BGR2GRAY)\n",
    "        \n",
    "        suc_2, img_2 = cap_2.read()\n",
    "        gray_2 = cv2.cvtColor(img_2, cv2.COLOR_BGR2GRAY)\n",
    "        \n",
    "        gray = cv2.hconcat([gray_1,gray_2])\n",
    "\n",
    "        out.write(cv2.cvtColor(gray, cv2.COLOR_GRAY2BGR))\n",
    "\n",
    "        \n",
    "    cap_1.release()\n",
    "    cap_2.release()\n",
    "    out.release()\n",
    "\n",
    "preview_video_side_by_side('gmm_fingers.mp4','gmm_fingers_frames_fill.mp4', 'gmm_fingers_and_fill.mp4')\n",
    "Video('gmm_fingers_and_fill.mp4')"
   ]
  },
  {
   "cell_type": "markdown",
   "metadata": {},
   "source": [
    "## Save images as resized data\n",
    "---"
   ]
  },
  {
   "cell_type": "code",
   "execution_count": 12,
   "metadata": {},
   "outputs": [
    {
     "name": "stderr",
     "output_type": "stream",
     "text": [
      "100%|██████████| 613/613 [00:00<00:00, 662.35it/s]\n"
     ]
    }
   ],
   "source": [
    "cap = cv2.VideoCapture('gmm_fingers.mp4')\n",
    "\n",
    "# get total number of frames\n",
    "totalFrames = cap.get(cv2.CAP_PROP_FRAME_COUNT)\n",
    "\n",
    "img_size = 128\n",
    "\n",
    "\n",
    "suc, prev = cap.read()\n",
    "prevgray = cv2.cvtColor(prev, cv2.COLOR_BGR2GRAY)\n",
    "\n",
    "prevgray = cv2.resize(prevgray, (img_size,img_size))\n",
    "\n",
    "images = np.zeros((int(totalFrames),np.shape(prevgray)[0],np.shape(prevgray)[1]),np.uint8)\n",
    "\n",
    "images[0,:,:] = prevgray\n",
    "\n",
    "for image in tqdm(range(int(totalFrames) - 1)):\n",
    "\n",
    "    suc, img = cap.read()\n",
    "    gray = cv2.cvtColor(img, cv2.COLOR_BGR2GRAY)\n",
    "    \n",
    "    gray = cv2.resize(gray, (img_size,img_size))\n",
    "    \n",
    "    images[image,:,:] = gray\n",
    "    \n",
    "    \n",
    "cap.release()"
   ]
  },
  {
   "cell_type": "code",
   "execution_count": 13,
   "metadata": {},
   "outputs": [],
   "source": [
    "def show_img_in_notebook(frame):\n",
    "    RGB_im = cv2.cvtColor(frame, cv2.COLOR_BGR2RGB)    \n",
    "    plt.imshow(RGB_im)\n",
    "    plt.title(\"Video\")\n",
    "    plt.show()\n",
    "    \n",
    "# show_img_in_notebook(images[100,:,:])"
   ]
  },
  {
   "cell_type": "markdown",
   "metadata": {},
   "source": [
    "## Image Labeling\n",
    "---"
   ]
  },
  {
   "cell_type": "code",
   "execution_count": 14,
   "metadata": {},
   "outputs": [],
   "source": [
    "labels = np.zeros((int(totalFrames)),np.uint8)\n",
    "\n",
    "labels[:] = 255\n",
    "labels[:80] = 5\n",
    "labels[100:145] = 4\n",
    "labels[150:210] = 3\n",
    "labels[220:280] = 2\n",
    "labels[300:360] = 1\n",
    "labels[370:420] = 0"
   ]
  },
  {
   "cell_type": "markdown",
   "metadata": {},
   "source": [
    "## Remove unlabeled data\n",
    "---"
   ]
  },
  {
   "cell_type": "code",
   "execution_count": 15,
   "metadata": {},
   "outputs": [],
   "source": [
    "X_data = images\n",
    "\n",
    "Y_lables = np.reshape(labels, (int(totalFrames),1))\n",
    "\n",
    "X_data = X_data[Y_lables[:, -1] != 255]\n",
    "\n",
    "Y_lables = Y_lables[Y_lables[:, -1] != 255]\n",
    "\n",
    "X_data = (X_data-np.min(X_data))/(np.max(X_data)-np.min(X_data))\n"
   ]
  },
  {
   "cell_type": "markdown",
   "metadata": {},
   "source": [
    "## Split data and labels to train and test sets\n",
    "---"
   ]
  },
  {
   "cell_type": "code",
   "execution_count": 16,
   "metadata": {},
   "outputs": [],
   "source": [
    "from sklearn.model_selection import train_test_split\n",
    "x_train, x_test, y_train, y_test = train_test_split(X_data, Y_lables, test_size=0.15, random_state=42)\n",
    "\n",
    "x_train_2d = np.reshape(x_train, (x_train.shape[0],x_train.shape[1]*x_train.shape[2]))\n",
    "x_test_2d = np.reshape(x_test, (x_test.shape[0],x_test.shape[1]*x_test.shape[2]))\n",
    "\n",
    "# # Save data set\n",
    "# with open('finger_dataset.pickle', 'wb') as output:\n",
    "#     pickle.dump([X_data,Y_lables], output)"
   ]
  },
  {
   "cell_type": "markdown",
   "metadata": {},
   "source": [
    "## Fit sklearn logistic regression model\n",
    "---"
   ]
  },
  {
   "cell_type": "code",
   "execution_count": 17,
   "metadata": {},
   "outputs": [
    {
     "name": "stderr",
     "output_type": "stream",
     "text": [
      "C:\\Users\\ophir\\AppData\\Roaming\\Python\\Python39\\site-packages\\sklearn\\utils\\validation.py:993: DataConversionWarning: A column-vector y was passed when a 1d array was expected. Please change the shape of y to (n_samples, ), for example using ravel().\n",
      "  y = column_or_1d(y, warn=True)\n",
      "C:\\Users\\ophir\\AppData\\Roaming\\Python\\Python39\\site-packages\\sklearn\\linear_model\\_logistic.py:814: ConvergenceWarning: lbfgs failed to converge (status=1):\n",
      "STOP: TOTAL NO. of ITERATIONS REACHED LIMIT.\n",
      "\n",
      "Increase the number of iterations (max_iter) or scale the data as shown in:\n",
      "    https://scikit-learn.org/stable/modules/preprocessing.html\n",
      "Please also refer to the documentation for alternative solver options:\n",
      "    https://scikit-learn.org/stable/modules/linear_model.html#logistic-regression\n",
      "  n_iter_i = _check_optimize_result(\n"
     ]
    }
   ],
   "source": [
    "from sklearn.linear_model import LogisticRegression\n",
    "\n",
    "# instantiate the model (using the default parameters)\n",
    "logreg = LogisticRegression()\n",
    "\n",
    "# fit the model with data\n",
    "logreg.fit(x_train_2d,y_train)\n",
    "\n",
    "#\n",
    "y_pred=logreg.predict(x_test_2d)"
   ]
  },
  {
   "cell_type": "markdown",
   "metadata": {},
   "source": [
    "## Fit sklearn KNN model\n",
    "---"
   ]
  },
  {
   "cell_type": "code",
   "execution_count": 10,
   "metadata": {},
   "outputs": [
    {
     "name": "stderr",
     "output_type": "stream",
     "text": [
      "C:\\Users\\ophir\\AppData\\Roaming\\Python\\Python39\\site-packages\\sklearn\\neighbors\\_classification.py:198: DataConversionWarning: A column-vector y was passed when a 1d array was expected. Please change the shape of y to (n_samples,), for example using ravel().\n",
      "  return self._fit(X, y)\n"
     ]
    }
   ],
   "source": [
    "# from sklearn.neighbors import KNeighborsClassifier\n",
    "\n",
    "# #Create KNN Classifier\n",
    "# knn = KNeighborsClassifier(n_neighbors=7)\n",
    "\n",
    "# #Train the model using the training sets\n",
    "# knn.fit(x_train_2d, y_train)\n",
    "\n",
    "# #Predict the response for test dataset\n",
    "# y_pred = knn.predict(x_test_2d)"
   ]
  },
  {
   "cell_type": "markdown",
   "metadata": {},
   "source": [
    "## Create confusion matrix\n",
    "---"
   ]
  },
  {
   "cell_type": "code",
   "execution_count": 11,
   "metadata": {},
   "outputs": [
    {
     "data": {
      "text/plain": [
       "array([[10,  0,  0,  0,  0,  0],\n",
       "       [ 0,  7,  0,  0,  0,  0],\n",
       "       [ 0,  0,  8,  0,  0,  0],\n",
       "       [ 0,  0,  0,  9,  1,  0],\n",
       "       [ 0,  0,  0,  0,  4,  0],\n",
       "       [ 0,  0,  0,  0,  0, 15]], dtype=int64)"
      ]
     },
     "execution_count": 11,
     "metadata": {},
     "output_type": "execute_result"
    }
   ],
   "source": [
    "from sklearn import metrics\n",
    "cnf_matrix = metrics.confusion_matrix(y_test, y_pred)\n",
    "cnf_matrix"
   ]
  },
  {
   "cell_type": "code",
   "execution_count": 13,
   "metadata": {},
   "outputs": [],
   "source": [
    "# import required modules\n",
    "import numpy as np\n",
    "import matplotlib.pyplot as plt\n",
    "import seaborn as sns\n",
    "import pandas as pd\n",
    "%matplotlib inline"
   ]
  },
  {
   "cell_type": "code",
   "execution_count": 14,
   "metadata": {},
   "outputs": [
    {
     "data": {
      "text/plain": [
       "Text(0.5, 257.44, 'Predicted label')"
      ]
     },
     "execution_count": 14,
     "metadata": {},
     "output_type": "execute_result"
    },
    {
     "data": {
      "image/png": "[encoded data removed]",
      "text/plain": [
       "<Figure size 432x288 with 2 Axes>"
      ]
     },
     "metadata": {
      "needs_background": "light"
     },
     "output_type": "display_data"
    }
   ],
   "source": [
    "class_names=[0,1] # name  of classes\n",
    "fig, ax = plt.subplots()\n",
    "tick_marks = np.arange(len(class_names))\n",
    "plt.xticks(tick_marks, class_names)\n",
    "plt.yticks(tick_marks, class_names)\n",
    "# create heatmap\n",
    "sns.heatmap(pd.DataFrame(cnf_matrix), annot=True, cmap=\"YlGnBu\" ,fmt='g')\n",
    "ax.xaxis.set_label_position(\"top\")\n",
    "plt.tight_layout()\n",
    "plt.title('Confusion matrix', y=1.1)\n",
    "plt.ylabel('Actual label')\n",
    "plt.xlabel('Predicted label')"
   ]
  },
  {
   "cell_type": "markdown",
   "metadata": {},
   "source": [
    "## Saving and loading model\n",
    "---"
   ]
  },
  {
   "cell_type": "code",
   "execution_count": 15,
   "metadata": {},
   "outputs": [],
   "source": [
    "import pickle   # pip install pickle-mixin\n",
    "\n",
    "# save the model to disk\n",
    "filename = 'finalized_model.sav'\n",
    "pickle.dump(logreg, open(filename, 'wb'))"
   ]
  },
  {
   "cell_type": "code",
   "execution_count": 17,
   "metadata": {},
   "outputs": [
    {
     "name": "stdout",
     "output_type": "stream",
     "text": [
      "1.0\n"
     ]
    }
   ],
   "source": [
    "# load the model from disk\n",
    "loaded_model = pickle.load(open(filename, 'rb'))\n",
    "result = loaded_model.score(x_test_2d, y_test)\n",
    "print(result)\n",
    "\n"
   ]
  },
  {
   "cell_type": "code",
   "execution_count": 15,
   "metadata": {},
   "outputs": [
    {
     "data": {
      "text/html": [
       "<video src=\"gmm_fingers_pred.mp4\" controls  >\n",
       "      Your browser does not support the <code>video</code> element.\n",
       "    </video>"
      ],
      "text/plain": [
       "<IPython.core.display.Video object>"
      ]
     },
     "execution_count": 15,
     "metadata": {},
     "output_type": "execute_result"
    }
   ],
   "source": [
    "def preview_pred_video(input_video_path: str, output_video_path: str):\n",
    "    cap = cv2.VideoCapture(input_video_path)\n",
    "    out = cv2.VideoWriter(output_video_path, -1, 20.0, (640,480))\n",
    "    # get total number of frames\n",
    "    totalFrames = cap.get(cv2.CAP_PROP_FRAME_COUNT)\n",
    "\n",
    "    suc, prev = cap.read()\n",
    "    prevgray = cv2.cvtColor(prev, cv2.COLOR_BGR2GRAY)\n",
    "    out.write(prevgray-prevgray)\n",
    "\n",
    "    for image in range(int(totalFrames) - 1):\n",
    "\n",
    "        suc, img = cap.read()\n",
    "        gray = cv2.cvtColor(img, cv2.COLOR_BGR2GRAY)   \n",
    "        \n",
    "        \n",
    "        font = cv2.FONT_HERSHEY_SIMPLEX\n",
    "        \n",
    "        gray_smaller = cv2.resize(gray, (img_size,img_size)).flatten()\n",
    "        \n",
    "        gray_smaller = np.reshape(gray_smaller,(1,img_size*img_size))\n",
    "        \n",
    "        y_pred=knn.predict(gray_smaller)\n",
    "        \n",
    "        predict = str(y_pred)\n",
    "        \n",
    "        cv2.putText(gray, predict, (7, 70), font, 3, (100, 255, 0), 3, cv2.LINE_AA)\n",
    "        \n",
    "        gray_bgr = cv2.cvtColor(gray, cv2.COLOR_GRAY2BGR)\n",
    "        \n",
    "        out.write(gray_bgr)\n",
    "\n",
    "        \n",
    "    cap.release()\n",
    "    out.release()\n",
    "    \n",
    "    \n",
    "preview_pred_video('gmm_fingers.mp4','gmm_fingers_pred.mp4')\n",
    "Video('gmm_fingers_pred.mp4')"
   ]
  },
  {
   "cell_type": "markdown",
   "metadata": {},
   "source": [
    "## View on live\n",
    "---"
   ]
  },
  {
   "cell_type": "code",
   "execution_count": null,
   "metadata": {},
   "outputs": [],
   "source": [
    "# cap = cv2.VideoCapture(0)\n",
    "\n",
    "cap = cv2.VideoCapture('http://192.168.0.169:4747/mjpegfeed?640x480')\n",
    "\n",
    "# cap.set(cv2.CAP_PROP_BUFFERSIZE, 3)\n",
    "# cap.set(CV_CAP_PROP_BUFFERSIZE, 3)\n",
    "\n",
    "suc, prev = cap.read()\n",
    "prevgray = cv2.cvtColor(prev, cv2.COLOR_BGR2GRAY)\n",
    "\n",
    "\n",
    "while True:\n",
    "\n",
    "    suc, img = cap.read()\n",
    "    gray = cv2.cvtColor(img, cv2.COLOR_BGR2GRAY)\n",
    "\n",
    "    \n",
    "    prevgray = gray\n",
    "    \n",
    "    gray_smaller = cv2.resize(gray, (img_size,img_size)).flatten()\n",
    "        \n",
    "    gray_smaller = np.reshape(gray_smaller,(1,img_size*img_size))\n",
    "    \n",
    "    y_pred=logreg.predict(gray_smaller)\n",
    "    \n",
    "    predict = str(y_pred)\n",
    "    \n",
    "    font = cv2.FONT_HERSHEY_SIMPLEX\n",
    "    \n",
    "    cv2.putText(gray, predict, (7, 70), font, 3, (100, 255, 0), 3, cv2.LINE_AA)\n",
    "    \n",
    "    gray_bgr = cv2.cvtColor(gray, cv2.COLOR_GRAY2BGR)\n",
    "\n",
    "    cv2.imshow('flow', gray_bgr)\n",
    "    \n",
    "\n",
    "    key = cv2.waitKey(5)\n",
    "    if key == ord('q'):\n",
    "        break\n",
    "\n",
    "\n",
    "cap.release()\n",
    "cv2.destroyAllWindows()"
   ]
  },
  {
   "cell_type": "markdown",
   "metadata": {},
   "source": [
    "## Keras model with image augmenting\n",
    "---"
   ]
  },
  {
   "cell_type": "markdown",
   "metadata": {},
   "source": [
    "### Pre process data\n",
    "---"
   ]
  },
  {
   "cell_type": "code",
   "execution_count": 18,
   "metadata": {},
   "outputs": [],
   "source": [
    "from sklearn.model_selection import train_test_split\n",
    "from keras.utils import np_utils\n",
    "from keras.preprocessing.image import ImageDataGenerator\n",
    "X_train, X_test, y_train, y_test = train_test_split(X_data, Y_lables, test_size=0.15, random_state=42)\n",
    "\n",
    "h_image = np.shape(X_train)[1]\n",
    "w_image = np.shape(X_train)[2]\n",
    "\n",
    "num_classes = 6\n",
    "\n",
    "Y_train = np_utils.to_categorical(y_train, num_classes)\n",
    "Y_test = np_utils.to_categorical(y_test, num_classes)"
   ]
  },
  {
   "cell_type": "markdown",
   "metadata": {},
   "source": [
    "### Create Keras model\n",
    "---"
   ]
  },
  {
   "cell_type": "code",
   "execution_count": 9,
   "metadata": {},
   "outputs": [],
   "source": [
    "model_numbers = keras.Sequential([\n",
    "    keras.layers.Flatten(input_shape=(h_image,w_image)),  # input layer (1)\n",
    "    keras.layers.Dense(num_classes, activation='softmax') # output layer (2)  \n",
    "])\n",
    "\n",
    "\n",
    "model_numbers.compile(optimizer='adam',\n",
    "              loss='categorical_crossentropy',\n",
    "              metrics=['accuracy'])\n"
   ]
  },
  {
   "cell_type": "markdown",
   "metadata": {},
   "source": [
    "### Train model without image augemeting\n",
    "---"
   ]
  },
  {
   "cell_type": "code",
   "execution_count": 20,
   "metadata": {},
   "outputs": [
    {
     "name": "stdout",
     "output_type": "stream",
     "text": [
      "Epoch 1/3\n",
      "10/10 [==============================] - 1s 12ms/step - loss: 0.5931 - accuracy: 0.9601\n",
      "Epoch 2/3\n",
      "10/10 [==============================] - 0s 9ms/step - loss: 0.4636 - accuracy: 0.9867\n",
      "Epoch 3/3\n",
      "10/10 [==============================] - 0s 8ms/step - loss: 0.0326 - accuracy: 0.9900\n",
      "2/2 [==============================] - 0s 9ms/step - loss: 1.5643e-04 - accuracy: 1.0000\n",
      "Test accuracy: 1.0\n"
     ]
    }
   ],
   "source": [
    "model_numbers.fit(X_train, Y_train, epochs=3)\n",
    "\n",
    "\n",
    "test_loss, test_acc = model_numbers.evaluate(X_test,  Y_test, verbose=1) \n",
    "\n",
    "print('Test accuracy:', test_acc)\n",
    "\n",
    "predictions_of_test = model_numbers.predict(X_train)\n",
    "predictions_of_test = np.argmax(predictions_of_test, axis=1)\n",
    "predictions_of_train = model_numbers.predict(X_test)\n",
    "predictions_of_train = np.argmax(predictions_of_train, axis=1)"
   ]
  },
  {
   "cell_type": "markdown",
   "metadata": {},
   "source": [
    "### Image augmenting\n",
    "---\n"
   ]
  },
  {
   "cell_type": "code",
   "execution_count": 22,
   "metadata": {},
   "outputs": [],
   "source": [
    "batch_size = 16\n",
    "\n",
    "# this is the augmentation configuration we will use for training\n",
    "train_datagen = ImageDataGenerator(\n",
    "        featurewise_center=True,\n",
    "        featurewise_std_normalization=True,\n",
    "        fill_mode = 'constant',\n",
    "        cval = 0,\n",
    "        rotation_range=45,\n",
    "        width_shift_range=0.2,\n",
    "        height_shift_range=0.2,\n",
    "        # shear_range=0.2,\n",
    "        zoom_range= 0.2,\n",
    "        rescale=1./255,\n",
    "        horizontal_flip=True)\n",
    "\n",
    "# this is the augmentation configuration we will use for testing:\n",
    "# only rescaling\n",
    "test_datagen = ImageDataGenerator(rescale=1./255)\n",
    "\n",
    "# this is a generator that will read pictures found in\n",
    "# subfolers of 'data/train', and indefinitely generate\n",
    "# batches of augmented image data\n",
    "X_train_4 = X_train.reshape(X_train.shape + (1,))\n",
    "\n",
    "# train_generator = train_datagen.flow(X_train_4,Y_train,batch_size=batch_size,shuffle=True, save_to_dir='preview', save_prefix='num_test', save_format='jpeg')\n",
    "\n",
    "train_generator = train_datagen.flow(X_train_4,Y_train,batch_size=batch_size,shuffle=True)\n",
    "\n",
    "\n",
    "X_test_4 = X_test.reshape(X_test.shape + (1,))\n",
    "# this is a similar generator, for validation data\n",
    "# validation_generator = test_datagen.flow(X_test_4,Y_test,batch_size=batch_size,shuffle=True, save_to_dir='preview', save_prefix='num_train', save_format='jpeg')\n",
    "\n",
    "validation_generator = test_datagen.flow(X_test_4,Y_test,batch_size=batch_size,shuffle=True)"
   ]
  },
  {
   "cell_type": "markdown",
   "metadata": {},
   "source": [
    "### Generate images to preview\n",
    "---"
   ]
  },
  {
   "cell_type": "code",
   "execution_count": 23,
   "metadata": {},
   "outputs": [],
   "source": [
    "import shutil\n",
    "import os\n",
    "directory_path = 'Preview'\n",
    "try:\n",
    "    shutil.rmtree(directory_path)\n",
    "except:\n",
    "    pass\n",
    "os.makedirs(directory_path, exist_ok=True)"
   ]
  },
  {
   "cell_type": "code",
   "execution_count": 24,
   "metadata": {},
   "outputs": [],
   "source": [
    "i = 0\n",
    "for batch in train_datagen.flow(X_train_4,Y_train, batch_size=1,\n",
    "                          save_to_dir='preview', save_prefix='hands', save_format='jpeg'):\n",
    "    i += 1\n",
    "    if i > 20:\n",
    "        break  # otherwise it run endless"
   ]
  },
  {
   "cell_type": "markdown",
   "metadata": {},
   "source": [
    "### Train model\n",
    "---"
   ]
  },
  {
   "cell_type": "code",
   "execution_count": 50,
   "metadata": {},
   "outputs": [
    {
     "name": "stderr",
     "output_type": "stream",
     "text": [
      "C:\\Users\\ophir\\AppData\\Roaming\\Python\\Python39\\site-packages\\keras_preprocessing\\image\\image_data_generator.py:720: UserWarning: This ImageDataGenerator specifies `featurewise_center`, but it hasn't been fit on any training data. Fit it first by calling `.fit(numpy_data)`.\n",
      "  warnings.warn('This ImageDataGenerator specifies '\n",
      "C:\\Users\\ophir\\AppData\\Roaming\\Python\\Python39\\site-packages\\keras_preprocessing\\image\\image_data_generator.py:728: UserWarning: This ImageDataGenerator specifies `featurewise_std_normalization`, but it hasn't been fit on any training data. Fit it first by calling `.fit(numpy_data)`.\n",
      "  warnings.warn('This ImageDataGenerator specifies '\n"
     ]
    },
    {
     "name": "stdout",
     "output_type": "stream",
     "text": [
      "Epoch 1/50\n",
      "6/6 [==============================] - ETA: 0s - loss: 2.0130 - accuracy: 0.2812WARNING:tensorflow:Your input ran out of data; interrupting training. Make sure that your dataset or generator can generate at least `steps_per_epoch * epochs` batches (in this case, 50 batches). You may need to use the repeat() function when building your dataset.\n",
      "6/6 [==============================] - 1s 154ms/step - loss: 2.0130 - accuracy: 0.2812 - val_loss: 0.9777 - val_accuracy: 0.9815\n",
      "Epoch 2/50\n",
      "6/6 [==============================] - 1s 81ms/step - loss: 1.9097 - accuracy: 0.2500\n",
      "Epoch 3/50\n",
      "6/6 [==============================] - 1s 104ms/step - loss: 2.2027 - accuracy: 0.1720\n",
      "Epoch 4/50\n",
      "6/6 [==============================] - 1s 97ms/step - loss: 2.0701 - accuracy: 0.1398\n",
      "Epoch 5/50\n",
      "6/6 [==============================] - 0s 75ms/step - loss: 1.9299 - accuracy: 0.2396\n",
      "Epoch 6/50\n",
      "6/6 [==============================] - 0s 77ms/step - loss: 2.1043 - accuracy: 0.2292\n",
      "Epoch 7/50\n",
      "6/6 [==============================] - 1s 88ms/step - loss: 2.0576 - accuracy: 0.2188\n",
      "Epoch 8/50\n",
      "6/6 [==============================] - 0s 76ms/step - loss: 2.1124 - accuracy: 0.2500\n",
      "Epoch 9/50\n",
      "6/6 [==============================] - 0s 77ms/step - loss: 1.9901 - accuracy: 0.2812\n",
      "Epoch 10/50\n",
      "6/6 [==============================] - 1s 83ms/step - loss: 2.0724 - accuracy: 0.2043\n",
      "Epoch 11/50\n",
      "6/6 [==============================] - 0s 77ms/step - loss: 2.0155 - accuracy: 0.2292\n",
      "Epoch 12/50\n",
      "6/6 [==============================] - 1s 100ms/step - loss: 2.0903 - accuracy: 0.1613\n",
      "Epoch 13/50\n",
      "6/6 [==============================] - 1s 94ms/step - loss: 2.1566 - accuracy: 0.2292\n",
      "Epoch 14/50\n",
      "6/6 [==============================] - 0s 73ms/step - loss: 1.8576 - accuracy: 0.3125\n",
      "Epoch 15/50\n",
      "6/6 [==============================] - 0s 83ms/step - loss: 2.0060 - accuracy: 0.2500\n",
      "Epoch 16/50\n",
      "6/6 [==============================] - 1s 104ms/step - loss: 2.0422 - accuracy: 0.2258\n",
      "Epoch 17/50\n",
      "6/6 [==============================] - 1s 106ms/step - loss: 2.0457 - accuracy: 0.2188\n",
      "Epoch 18/50\n",
      "6/6 [==============================] - 1s 95ms/step - loss: 1.9105 - accuracy: 0.2083\n",
      "Epoch 19/50\n",
      "6/6 [==============================] - 1s 96ms/step - loss: 1.9008 - accuracy: 0.1875\n",
      "Epoch 20/50\n",
      "6/6 [==============================] - 1s 90ms/step - loss: 1.8930 - accuracy: 0.1979\n",
      "Epoch 21/50\n",
      "6/6 [==============================] - 0s 66ms/step - loss: 1.8892 - accuracy: 0.2396\n",
      "Epoch 22/50\n",
      "6/6 [==============================] - 0s 60ms/step - loss: 1.7247 - accuracy: 0.2604\n",
      "Epoch 23/50\n",
      "6/6 [==============================] - 0s 48ms/step - loss: 1.9292 - accuracy: 0.1979\n",
      "Epoch 24/50\n",
      "6/6 [==============================] - 0s 50ms/step - loss: 1.9201 - accuracy: 0.1290\n",
      "Epoch 25/50\n",
      "6/6 [==============================] - 0s 52ms/step - loss: 1.9733 - accuracy: 0.2581\n",
      "Epoch 26/50\n",
      "6/6 [==============================] - 0s 50ms/step - loss: 1.8908 - accuracy: 0.1979\n",
      "Epoch 27/50\n",
      "6/6 [==============================] - 0s 54ms/step - loss: 2.0209 - accuracy: 0.1771\n",
      "Epoch 28/50\n",
      "6/6 [==============================] - 0s 48ms/step - loss: 1.9292 - accuracy: 0.2688\n",
      "Epoch 29/50\n",
      "6/6 [==============================] - 0s 50ms/step - loss: 1.8208 - accuracy: 0.2917\n",
      "Epoch 30/50\n",
      "6/6 [==============================] - 0s 47ms/step - loss: 1.8870 - accuracy: 0.2188\n",
      "Epoch 31/50\n",
      "6/6 [==============================] - 0s 50ms/step - loss: 1.8714 - accuracy: 0.2688\n",
      "Epoch 32/50\n",
      "6/6 [==============================] - 0s 53ms/step - loss: 1.8742 - accuracy: 0.1875\n",
      "Epoch 33/50\n",
      "6/6 [==============================] - 0s 65ms/step - loss: 1.9697 - accuracy: 0.1250\n",
      "Epoch 34/50\n",
      "6/6 [==============================] - 0s 63ms/step - loss: 1.8103 - accuracy: 0.2581\n",
      "Epoch 35/50\n",
      "6/6 [==============================] - 0s 50ms/step - loss: 1.7671 - accuracy: 0.2396\n",
      "Epoch 36/50\n",
      "6/6 [==============================] - 0s 52ms/step - loss: 1.8453 - accuracy: 0.2812\n",
      "Epoch 37/50\n",
      "6/6 [==============================] - 0s 49ms/step - loss: 1.7561 - accuracy: 0.2500\n",
      "Epoch 38/50\n",
      "6/6 [==============================] - 0s 48ms/step - loss: 1.8781 - accuracy: 0.2604\n",
      "Epoch 39/50\n",
      "6/6 [==============================] - 0s 47ms/step - loss: 1.9375 - accuracy: 0.2083\n",
      "Epoch 40/50\n",
      "6/6 [==============================] - 0s 55ms/step - loss: 1.9835 - accuracy: 0.1720\n",
      "Epoch 41/50\n",
      "6/6 [==============================] - 0s 45ms/step - loss: 1.8757 - accuracy: 0.2258\n",
      "Epoch 42/50\n",
      "6/6 [==============================] - 0s 49ms/step - loss: 1.8943 - accuracy: 0.2581\n",
      "Epoch 43/50\n",
      "6/6 [==============================] - 0s 50ms/step - loss: 1.8173 - accuracy: 0.2396\n",
      "Epoch 44/50\n",
      "6/6 [==============================] - 0s 58ms/step - loss: 1.8985 - accuracy: 0.2812\n",
      "Epoch 45/50\n",
      "6/6 [==============================] - 0s 52ms/step - loss: 1.8857 - accuracy: 0.1935\n",
      "Epoch 46/50\n",
      "6/6 [==============================] - 0s 62ms/step - loss: 1.8718 - accuracy: 0.2292\n",
      "Epoch 47/50\n",
      "6/6 [==============================] - 0s 74ms/step - loss: 1.9664 - accuracy: 0.1875\n",
      "Epoch 48/50\n",
      "6/6 [==============================] - 0s 63ms/step - loss: 2.0125 - accuracy: 0.1562\n",
      "Epoch 49/50\n",
      "6/6 [==============================] - 0s 72ms/step - loss: 1.8412 - accuracy: 0.2292\n",
      "Epoch 50/50\n",
      "6/6 [==============================] - 0s 71ms/step - loss: 1.9598 - accuracy: 0.1667\n"
     ]
    }
   ],
   "source": [
    "model_numbers.fit(\n",
    "        train_generator,\n",
    "        steps_per_epoch=100 // batch_size,\n",
    "        epochs=50,\n",
    "        validation_data=validation_generator,\n",
    "        validation_steps=800 // batch_size)\n",
    "model_numbers.save_weights('first_try.h5')  # always save your weights after training or during training"
   ]
  },
  {
   "cell_type": "markdown",
   "metadata": {},
   "source": [
    "### Results preview\n",
    "---"
   ]
  },
  {
   "cell_type": "code",
   "execution_count": 33,
   "metadata": {},
   "outputs": [
    {
     "name": "stdout",
     "output_type": "stream",
     "text": [
      "2/2 [==============================] - 0s 7ms/step - loss: 2.5175e-04 - accuracy: 1.0000\n",
      "Test accuracy: 1.0\n"
     ]
    }
   ],
   "source": [
    "test_loss, test_acc = model_numbers.evaluate(X_test,  Y_test, verbose=1) \n",
    "\n",
    "print('Test accuracy:', test_acc)\n",
    "\n",
    "predictions_of_test = model_numbers.predict(X_train)\n",
    "predictions_of_test = np.argmax(predictions_of_test, axis=1)\n",
    "predictions_of_train = model_numbers.predict(X_test)\n",
    "predictions_of_train = np.argmax(predictions_of_train, axis=1)"
   ]
  },
  {
   "cell_type": "code",
   "execution_count": 40,
   "metadata": {},
   "outputs": [
    {
     "name": "stdout",
     "output_type": "stream",
     "text": [
      "INFO:tensorflow:Assets written to: keras_fingers_model\\assets\n"
     ]
    }
   ],
   "source": [
    "model_numbers.save('keras_fingers_model')"
   ]
  },
  {
   "cell_type": "code",
   "execution_count": 35,
   "metadata": {},
   "outputs": [
    {
     "data": {
      "image/png": "[encoded data removed]",
      "text/plain": [
       "<Figure size 432x288 with 1 Axes>"
      ]
     },
     "metadata": {
      "needs_background": "light"
     },
     "output_type": "display_data"
    },
    {
     "data": {
      "text/plain": [
       "1"
      ]
     },
     "execution_count": 35,
     "metadata": {},
     "output_type": "execute_result"
    }
   ],
   "source": [
    "test = 9\n",
    "img = cv2.normalize(X_test[test,:,:], None, 255,0, cv2.NORM_MINMAX, cv2.CV_8UC1)\n",
    "\n",
    "show_img_in_notebook(img)\n",
    "predictions_of_train[test]"
   ]
  },
  {
   "cell_type": "code",
   "execution_count": 36,
   "metadata": {},
   "outputs": [
    {
     "data": {
      "text/plain": [
       "Text(0.5, 257.44, 'Predicted label')"
      ]
     },
     "execution_count": 36,
     "metadata": {},
     "output_type": "execute_result"
    },
    {
     "data": {
      "image/png": "[encoded data removed]",
      "text/plain": [
       "<Figure size 432x288 with 2 Axes>"
      ]
     },
     "metadata": {
      "needs_background": "light"
     },
     "output_type": "display_data"
    }
   ],
   "source": [
    "from sklearn import metrics\n",
    "cnf_matrix = metrics.confusion_matrix(y_test, predictions_of_train)\n",
    "cnf_matrix\n",
    "\n",
    "# import required modules\n",
    "import numpy as np\n",
    "import matplotlib.pyplot as plt\n",
    "import seaborn as sns\n",
    "import pandas as pd\n",
    "%matplotlib inline\n",
    "\n",
    "class_names=[0,1] # name  of classes\n",
    "fig, ax = plt.subplots()\n",
    "tick_marks = np.arange(len(class_names))\n",
    "plt.xticks(tick_marks, class_names)\n",
    "plt.yticks(tick_marks, class_names)\n",
    "# create heatmap\n",
    "sns.heatmap(pd.DataFrame(cnf_matrix), annot=True, cmap=\"YlGnBu\" ,fmt='g')\n",
    "ax.xaxis.set_label_position(\"top\")\n",
    "plt.tight_layout()\n",
    "plt.title('Confusion matrix', y=1.1)\n",
    "plt.ylabel('Actual label')\n",
    "plt.xlabel('Predicted label')"
   ]
  }
 ],
 "metadata": {
  "interpreter": {
   "hash": "b3ba2566441a7c06988d0923437866b63cedc61552a5af99d1f4fb67d367b25f"
  },
  "kernelspec": {
   "display_name": "Python 3.8.3 64-bit",
   "language": "python",
   "name": "python3"
  },
  "language_info": {
   "codemirror_mode": {
    "name": "ipython",
    "version": 3
   },
   "file_extension": ".py",
   "mimetype": "text/x-python",
   "name": "python",
   "nbconvert_exporter": "python",
   "pygments_lexer": "ipython3",
   "version": "3.9.9"
  },
  "orig_nbformat": 4
 },
 "nbformat": 4,
 "nbformat_minor": 2
}
